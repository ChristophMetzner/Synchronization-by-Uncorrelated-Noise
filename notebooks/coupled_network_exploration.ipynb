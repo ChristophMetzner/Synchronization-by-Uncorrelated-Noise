{
 "cells": [
  {
   "cell_type": "code",
   "execution_count": 1,
   "metadata": {},
   "outputs": [
    {
     "name": "stdout",
     "output_type": "stream",
     "text": [
      "/Users/lrebscher/git/Synchronization-by-Uncorrelated-Noise/models\n",
      "/Users/lrebscher/git/Synchronization-by-Uncorrelated-Noise/plots_out\n"
     ]
    }
   ],
   "source": [
    "%load_ext autoreload\n",
    "%autoreload 2\n",
    "\n",
    "import plots\n",
    "import runner\n",
    "import analysis\n"
   ]
  },
  {
   "cell_type": "markdown",
   "metadata": {
    "pycharm": {
     "name": "#%% md\n"
    }
   },
   "source": [
    "# Coupled Networks\n",
    "\n",
    "2 EI Populations connected by delayed excitatory connections.\n"
   ]
  },
  {
   "cell_type": "markdown",
   "metadata": {
    "pycharm": {
     "name": "#%% md\n"
    }
   },
   "source": [
    "# Desynchronization\n",
    "\n",
    "We want to create an initial state where both networks are desynchronized, meaning the phases of their LFPs are not synchronized.\n",
    "\n",
    "TODO: configure phase delays, and increase delay in inter-network connections.\n",
    "\n",
    "The network should not be too similar. At the moment they are almost identical in their configuration."
   ]
  },
  {
   "cell_type": "code",
   "execution_count": 8,
   "metadata": {
    "pycharm": {
     "name": "#%%\n"
    }
   },
   "outputs": [],
   "source": []
  }
 ],
 "metadata": {
  "kernelspec": {
   "display_name": "Python 3",
   "language": "python",
   "name": "python3"
  },
  "language_info": {
   "codemirror_mode": {
    "name": "ipython",
    "version": 3
   },
   "file_extension": ".py",
   "mimetype": "text/x-python",
   "name": "python",
   "nbconvert_exporter": "python",
   "pygments_lexer": "ipython3",
   "version": "3.7.3"
  }
 },
 "nbformat": 4,
 "nbformat_minor": 1
}